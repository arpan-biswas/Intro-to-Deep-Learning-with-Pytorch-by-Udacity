{
  "nbformat": 4,
  "nbformat_minor": 0,
  "metadata": {
    "colab": {
      "name": "Untitled0.ipynb",
      "provenance": [],
      "include_colab_link": true
    },
    "kernelspec": {
      "name": "python3",
      "display_name": "Python 3"
    }
  },
  "cells": [
    {
      "cell_type": "markdown",
      "metadata": {
        "id": "view-in-github",
        "colab_type": "text"
      },
      "source": [
        "<a href=\"https://colab.research.google.com/github/arpan-biswas/Intro-to-Deep-Learning-with-Pytorch-by-Udacity/blob/master/Simple%20Linear%20Regression.ipynb\" target=\"_parent\"><img src=\"https://colab.research.google.com/assets/colab-badge.svg\" alt=\"Open In Colab\"/></a>"
      ]
    },
    {
      "cell_type": "code",
      "metadata": {
        "id": "TGCHQkL042tT",
        "colab_type": "code",
        "colab": {
          "base_uri": "https://localhost:8080/",
          "height": 135
        },
        "outputId": "45df7935-d7cf-4132-b239-4d4fa0d8c3fd"
      },
      "source": [
        "import numpy as np \n",
        "import matplotlib.pyplot as plt \n",
        "  \n",
        "def estimate_coef(x, y): \n",
        "    # number of observations/points \n",
        "    n = np.size(x) \n",
        "  \n",
        "    # mean of x and y vector \n",
        "    m_x, m_y = np.mean(x), np.mean(y) \n",
        "  \n",
        "    # calculating cross-deviation and deviation about x \n",
        "    SS_xy = np.sum(y*x) - n*m_y*m_x \n",
        "    SS_xx = np.sum(x*x) - n*m_x*m_x \n",
        "  \n",
        "    # calculating regression coefficients \n",
        "    b_1 = SS_xy / SS_xx \n",
        "    b_0 = m_y - b_1*m_x \n",
        "  \n",
        "    return(b_0, b_1) \n",
        "  \n",
        "def plot_regression_line(x, y, b): \n",
        "    # plotting the actual points as scatter plot \n",
        "    plt.scatter(x, y, color = \"m\", \n",
        "               marker = \"o\", s = 30) \n",
        "  \n",
        "    # predicted response vector \n",
        "    y_pred = b[0] + b[1]*x \n",
        "  \n",
        "    # plotting the regression line \n",
        "    plt.plot(x, y_pred, color = \"g\") \n",
        "  \n",
        "    # putting labels \n",
        "    plt.xlabel('x') \n",
        "    plt.ylabel('y') \n",
        "  \n",
        "    # function to show plot \n",
        "    plt.show() \n",
        "  \n",
        "def main(): \n",
        "    # observations \n",
        "    x = np.array([ 1, 2, 3, 4, 5, 6, 7, 8]) \n",
        "    y = np.array([3, 4, 8, 11, 25, 34, 42, 55 ]) \n",
        "  \n",
        "    # estimating coefficients \n",
        "    b = estimate_coef(x, y) \n",
        "    print(\"Estimated coefficients:\\nb_0 = {}  \\ \n",
        "          \\nb_1 = {}\".format(b[0], b[1])) \n",
        "  "
      ],
      "execution_count": 2,
      "outputs": [
        {
          "output_type": "error",
          "ename": "SyntaxError",
          "evalue": "ignored",
          "traceback": [
            "\u001b[0;36m  File \u001b[0;32m\"<ipython-input-2-48e4accc98e9>\"\u001b[0;36m, line \u001b[0;32m46\u001b[0m\n\u001b[0;31m    print(\"Estimated coefficients:\\nb_0 = {}  \\\u001b[0m\n\u001b[0m                                                ^\u001b[0m\n\u001b[0;31mSyntaxError\u001b[0m\u001b[0;31m:\u001b[0m EOL while scanning string literal\n"
          ]
        }
      ]
    },
    {
      "cell_type": "code",
      "metadata": {
        "id": "kFzA_ym75mO8",
        "colab_type": "code",
        "colab": {}
      },
      "source": [
        ""
      ],
      "execution_count": 0,
      "outputs": []
    },
    {
      "cell_type": "code",
      "metadata": {
        "id": "reyCjora76Xl",
        "colab_type": "code",
        "colab": {
          "base_uri": "https://localhost:8080/",
          "height": 35
        },
        "outputId": "8826d834-3bab-4c77-af37-bd6ffc646eb3"
      },
      "source": [
        "# Calculate the mean value of a list of numbers\n",
        "def mean(values):\n",
        "\treturn sum(values) / float(len(values))\n",
        " \n",
        "# Calculate covariance between x and y\n",
        "def covariance(x, mean_x, y, mean_y):\n",
        "\tcovar = 0.0\n",
        "\tfor i in range(len(x)):\n",
        "\t\tcovar += (x[i] - mean_x) * (y[i] - mean_y)\n",
        "\treturn covar\n",
        " \n",
        "# Calculate the variance of a list of numbers\n",
        "def variance(values, mean):\n",
        "\treturn sum([(x-mean)**2 for x in values])\n",
        " \n",
        "# Calculate coefficients\n",
        "def coefficients(dataset):\n",
        "\tx = [row[0] for row in dataset]\n",
        "\ty = [row[1] for row in dataset]\n",
        "\tx_mean, y_mean = mean(x), mean(y)\n",
        "\tb1 = covariance(x, x_mean, y, y_mean) / variance(x, x_mean)\n",
        "\tb0 = y_mean - b1 * x_mean\n",
        "\treturn [b0, b1]\n",
        " \n",
        "# calculate coefficients\n",
        "dataset = [[1, 3], [2, 4], [3, 8], [4, 11], [5, 25],[6, 34],[7, 42],[8, 55]]\n",
        "b0, b1 = coefficients(dataset)\n",
        "print('Coefficients: B0=%.3f, B1=%.3f' % (b0, b1))\n"
      ],
      "execution_count": 7,
      "outputs": [
        {
          "output_type": "stream",
          "text": [
            "Coefficients: B0=-11.857, B1=7.690\n"
          ],
          "name": "stdout"
        }
      ]
    },
    {
      "cell_type": "code",
      "metadata": {
        "id": "V6dJw7UT83yM",
        "colab_type": "code",
        "colab": {}
      },
      "source": [
        "# Simple Linear Regression on the Swedish Insurance Dataset\n",
        "from random import seed\n",
        "from random import randrange\n",
        "from csv import reader\n",
        "from math import sqrt\n",
        " \n",
        "# Load a CSV file\n",
        "def load_csv(filename):\n",
        "\tdataset = list()\n",
        "\twith open(filename, 'r') as file:\n",
        "\t\tcsv_reader = reader(file)\n",
        "\t\tfor row in csv_reader:\n",
        "\t\t\tif not row:\n",
        "\t\t\t\tcontinue\n",
        "\t\t\tdataset.append(row)\n",
        "\treturn dataset\n",
        " \n",
        "# Convert string column to float\n",
        "def str_column_to_float(dataset, column):\n",
        "\tfor row in dataset:\n",
        "\t\trow[column] = float(row[column].strip())\n",
        " \n",
        "# Split a dataset into a train and test set\n",
        "def train_test_split(dataset, split):\n",
        "\ttrain = list()\n",
        "\ttrain_size = split * len(dataset)\n",
        "\tdataset_copy = list(dataset)\n",
        "\twhile len(train) < train_size:\n",
        "\t\tindex = randrange(len(dataset_copy))\n",
        "\t\ttrain.append(dataset_copy.pop(index))\n",
        "\treturn train, dataset_copy\n",
        " \n",
        "# Calculate root mean squared error\n",
        "def rmse_metric(actual, predicted):\n",
        "\tsum_error = 0.0\n",
        "\tfor i in range(len(actual)):\n",
        "\t\tprediction_error = predicted[i] - actual[i]\n",
        "\t\tsum_error += (prediction_error ** 2)\n",
        "\tmean_error = sum_error / float(len(actual))\n",
        "\treturn sqrt(mean_error)\n",
        " \n",
        "# Evaluate an algorithm using a train/test split\n",
        "def evaluate_algorithm(dataset, algorithm, split, *args):\n",
        "\ttrain, test = train_test_split(dataset, split)\n",
        "\ttest_set = list()\n",
        "\tfor row in test:\n",
        "\t\trow_copy = list(row)\n",
        "\t\trow_copy[-1] = None\n",
        "\t\ttest_set.append(row_copy)\n",
        "\tpredicted = algorithm(train, test_set, *args)\n",
        "\tactual = [row[-1] for row in test]\n",
        "\trmse = rmse_metric(actual, predicted)\n",
        "\treturn rmse\n",
        " \n",
        "# Calculate the mean value of a list of numbers\n",
        "def mean(values):\n",
        "\treturn sum(values) / float(len(values))\n",
        " \n",
        "# Calculate covariance between x and y\n",
        "def covariance(x, mean_x, y, mean_y):\n",
        "\tcovar = 0.0\n",
        "\tfor i in range(len(x)):\n",
        "\t\tcovar += (x[i] - mean_x) * (y[i] - mean_y)\n",
        "\treturn covar\n",
        " \n",
        "# Calculate the variance of a list of numbers\n",
        "def variance(values, mean):\n",
        "\treturn sum([(x-mean)**2 for x in values])\n",
        " \n",
        "# Calculate coefficients\n",
        "def coefficients(dataset):\n",
        "\tx = [row[0] for row in dataset]\n",
        "\ty = [row[1] for row in dataset]\n",
        "\tx_mean, y_mean = mean(x), mean(y)\n",
        "\tb1 = covariance(x, x_mean, y, y_mean) / variance(x, x_mean)\n",
        "\tb0 = y_mean - b1 * x_mean\n",
        "\treturn [b0, b1]\n",
        " \n",
        "# Simple linear regression algorithm\n",
        "def simple_linear_regression(train, test):\n",
        "\tpredictions = list()\n",
        "\tb0, b1 = coefficients(train)\n",
        "\tfor row in test:\n",
        "\t\tyhat = b0 + b1 * row[0]\n",
        "\t\tpredictions.append(yhat)\n",
        "\treturn predictions\n",
        " \n",
        "# Simple linear regression on insurance dataset\n",
        "seed(1)\n",
        "# load and prepare data\n",
        "filename = 'insurance.csv'\n",
        "dataset = load_csv(filename)\n",
        "for i in range(len(dataset[0])):\n",
        "\tstr_column_to_float(dataset, i)\n",
        "# evaluate algorithm\n",
        "split = 0.6\n",
        "rmse = evaluate_algorithm(dataset, simple_linear_regression, split)\n",
        "print('RMSE: %.3f' % (rmse))"
      ],
      "execution_count": 0,
      "outputs": []
    },
    {
      "cell_type": "code",
      "metadata": {
        "id": "P82NYhwQ9SUj",
        "colab_type": "code",
        "colab": {
          "base_uri": "https://localhost:8080/",
          "height": 74
        },
        "outputId": "e3783974-404f-4686-f6a8-70e5050f14e5"
      },
      "source": [
        "# Standalone simple linear regression example\n",
        "from math import sqrt\n",
        " \n",
        "# Calculate root mean squared error\n",
        "def rmse_metric(actual, predicted):\n",
        "\tsum_error = 0.0\n",
        "\tfor i in range(len(actual)):\n",
        "\t\tprediction_error = predicted[i] - actual[i]\n",
        "\t\tsum_error += (prediction_error ** 2)\n",
        "\tmean_error = sum_error / float(len(actual))\n",
        "\treturn sqrt(mean_error)\n",
        " \n",
        "# Evaluate regression algorithm on training dataset\n",
        "def evaluate_algorithm(dataset, algorithm):\n",
        "\ttest_set = list()\n",
        "\tfor row in dataset:\n",
        "\t\trow_copy = list(row)\n",
        "\t\trow_copy[-1] = None\n",
        "\t\ttest_set.append(row_copy)\n",
        "\tpredicted = algorithm(dataset, test_set)\n",
        "\tprint(predicted)\n",
        "\tactual = [row[-1] for row in dataset]\n",
        "\trmse = rmse_metric(actual, predicted)\n",
        "\treturn rmse\n",
        " \n",
        "# Calculate the mean value of a list of numbers\n",
        "def mean(values):\n",
        "\treturn sum(values) / float(len(values))\n",
        " \n",
        "# Calculate covariance between x and y\n",
        "def covariance(x, mean_x, y, mean_y):\n",
        "\tcovar = 0.0\n",
        "\tfor i in range(len(x)):\n",
        "\t\tcovar += (x[i] - mean_x) * (y[i] - mean_y)\n",
        "\treturn covar\n",
        " \n",
        "# Calculate the variance of a list of numbers\n",
        "def variance(values, mean):\n",
        "\treturn sum([(x-mean)**2 for x in values])\n",
        " \n",
        "# Calculate coefficients\n",
        "def coefficients(dataset):\n",
        "\tx = [row[0] for row in dataset]\n",
        "\ty = [row[1] for row in dataset]\n",
        "\tx_mean, y_mean = mean(x), mean(y)\n",
        "\tb1 = covariance(x, x_mean, y, y_mean) / variance(x, x_mean)\n",
        "\tb0 = y_mean - b1 * x_mean\n",
        "\treturn [b0, b1]\n",
        " \n",
        "# Simple linear regression algorithm\n",
        "def simple_linear_regression(train, test):\n",
        "\tpredictions = list()\n",
        "\tb0, b1 = coefficients(train)\n",
        "\tfor row in test:\n",
        "\t\tyhat = b0 + b1 * row[0]\n",
        "\t\tpredictions.append(yhat)\n",
        "\treturn predictions\n",
        " \n",
        "# Test simple linear regression\n",
        "dataset = [[1, 3], [2, 4], [4, 8], [3, 11], [5, 25],[6, 34],[7, 42],[8, 55]]\n",
        "rmse = evaluate_algorithm(dataset, simple_linear_regression)\n",
        "print('RMSE: %.3f' % (rmse))"
      ],
      "execution_count": 4,
      "outputs": [
        {
          "output_type": "stream",
          "text": [
            "[-3.916666666666666, 3.7023809523809526, 18.94047619047619, 11.32142857142857, 26.55952380952381, 34.17857142857142, 41.797619047619044, 49.416666666666664]\n",
            "RMSE: 5.018\n"
          ],
          "name": "stdout"
        }
      ]
    },
    {
      "cell_type": "code",
      "metadata": {
        "id": "_z-Gi8Fp9uLR",
        "colab_type": "code",
        "colab": {
          "base_uri": "https://localhost:8080/",
          "height": 135
        },
        "outputId": "454c1215-ec40-4dc8-dca4-e3cb769a6d95"
      },
      "source": [
        "alculate Coefficients\n",
        " \n",
        "# Calculate the mean value of a list of numbers\n",
        "def mean(values):\n",
        "\treturn sum(values) / float(len(values))\n",
        " \n",
        "# Calculate covariance between x and y\n",
        "def covariance(x, mean_x, y, mean_y):\n",
        "\tcovar = 0.0\n",
        "\tfor i in range(len(x)):\n",
        "\t\tcovar += (x[i] - mean_x) * (y[i] - mean_y)\n",
        "\treturn covar\n",
        " \n",
        "# Calculate the variance of a list of numbers\n",
        "def variance(values, mean):\n",
        "\treturn sum([(x-mean)**2 for x in values])\n",
        " \n",
        "def simple_linear_regression(train, test):\n",
        "\tpredictions = list()\n",
        "\tb0, b1 = coefficients(train)\n",
        "\tfor row in test:\n",
        "\t\tyhat = b0 + b1 * row[0]\n",
        "\t\tpredictions.append(yhat)\n",
        "\treturn predictions\n",
        "\n",
        "# Calculate coefficients\n",
        "def coefficients(dataset):\n",
        "\tx = [row[0] for row in dataset]\n",
        "\ty = [row[1] for row in dataset]\n",
        "\tx_mean, y_mean = mean(x), mean(y)\n",
        "\tb1 = covariance(x, x_mean, y, y_mean) / variance(x, x_mean)\n",
        "\tb0 = y_mean - b1 * x_mean\n",
        "\treturn [b0, b1]\n",
        " \n",
        "# calculate coefficients\n",
        "dataset = [[1, 1], [2, 3], [4, 3], [3, 2], [5, 5]]\n",
        "b0, b1 = coefficients(dataset)\n",
        "print('Coefficients: B0=%.3f, B1=%.3f' % (b0, b1))\n",
        "\n",
        "\n",
        "\t\n"
      ],
      "execution_count": 5,
      "outputs": [
        {
          "output_type": "error",
          "ename": "SyntaxError",
          "evalue": "ignored",
          "traceback": [
            "\u001b[0;36m  File \u001b[0;32m\"<ipython-input-5-dc65c885ad54>\"\u001b[0;36m, line \u001b[0;32m1\u001b[0m\n\u001b[0;31m    alculate Coefficients\u001b[0m\n\u001b[0m                        ^\u001b[0m\n\u001b[0;31mSyntaxError\u001b[0m\u001b[0;31m:\u001b[0m invalid syntax\n"
          ]
        }
      ]
    }
  ]
}